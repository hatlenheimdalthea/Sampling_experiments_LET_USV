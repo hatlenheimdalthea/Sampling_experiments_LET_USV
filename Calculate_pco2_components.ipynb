{
 "cells": [
  {
   "cell_type": "markdown",
   "metadata": {},
   "source": [
    "This notebook calculates the different pCO2 components needed to calculate the pCO2-Residual prior to algorithm processing. \n",
    "\n",
    "This notebook was originally created by Val Bennington, and modified by Thea Hatlen Heimdal."
   ]
  },
  {
   "cell_type": "code",
   "execution_count": null,
   "metadata": {},
   "outputs": [],
   "source": [
    "# Modules\n",
    "\n",
    "import pandas as pd\n",
    "import xarray as xr\n",
    "import numpy as np\n",
    "import numpy.ma as ma\n",
    "%matplotlib inline\n",
    "%config InlineBackend.figure_format = 'jpg'\n",
    "%config InlineBackend.print_figure_kwargs = {'dpi':200, 'bbox_inches': 'tight'}\n",
    "import matplotlib as mpl\n",
    "from matplotlib.ticker import AutoMinorLocator\n",
    "import matplotlib.pyplot as plt\n",
    "import scipy\n",
    "import sklearn.linear_model \n",
    "import pickle\n",
    "import cmocean as cm"
   ]
  },
  {
   "cell_type": "markdown",
   "metadata": {},
   "source": [
    "# \"pCO2-DIC\" = pCO2 - pCO2_T"
   ]
  },
  {
   "cell_type": "code",
   "execution_count": 2,
   "metadata": {},
   "outputs": [],
   "source": [
    "# pCO2-T at observed temp T = pCO2 (annual mean) * exp(0.0423*(Tobs - Tannualmean))\n",
    "\n",
    "# Takahashi 2002:\n",
    "# Takahashi, T., et al. (2002), Global sea-air CO2 flux based on climatological surface ocean pCO2, and seasonal biological and temperature effects, Deep Sea Res., Part II, 49, 1601–1622, doi:10.1016/S0967-0645(02)00003-6.\n",
    "\n",
    "# pCO2-nonT at observed temperature = pCO2 * exp(0.0423*(SST-SSTmean))"
   ]
  },
  {
   "cell_type": "code",
   "execution_count": 1,
   "metadata": {},
   "outputs": [],
   "source": [
    "def pCO2_components(pco2_series,sst_series):\n",
    "    \n",
    "    # Use climatological pCO2 to calculate pCO2_T\n",
    "    pCO2_T = pco2_series.mean(\"time\")*np.exp(0.0423* (sst_series - sst_series.mean(\"time\")))\n",
    "\n",
    "    pCO2_T = pCO2_T.transpose(\"time\",\"ylat\",\"xlon\")\n",
    "    # pCO2_nonT = pCO2 - pCO2_T \n",
    "      \n",
    "    pCO2_nonT = pco2_series * np.exp(0.0423 * (sst_series.mean(\"time\") - sst_series))\n",
    "    \n",
    "    return pCO2_T, pCO2_nonT\n",
    "    "
   ]
  },
  {
   "cell_type": "code",
   "execution_count": 2,
   "metadata": {},
   "outputs": [],
   "source": [
    "def pCO2_from_pCO2_nonT(pco2_nonT,sst_series):\n",
    "    \n",
    "    pco2_series = pco2_nonT / (np.exp(0.0423 * (sst_series.mean(\"time\") - sst_series)))\n",
    "    \n",
    "    return pco2_series"
   ]
  },
  {
   "cell_type": "code",
   "execution_count": 6,
   "metadata": {},
   "outputs": [],
   "source": [
    "member_dir = \"/local/data/artemis/workspace/jfs2167/recon_eval\"\n",
    "reference_output_dir = f\"{member_dir}/references\"\n",
    "ensemble_dir_head = \"/data/artemis/simulations/LET\"\n",
    "run_dir = \"/data/artemis/workspace/vbennington/sampling/saildrone_5yr/models/reconstructions/xg\"\n",
    "\n",
    "# Loading references\n",
    "path_LET = f\"{reference_output_dir}/members_LET_dict.pickle\"\n",
    "\n",
    "with open(path_LET,'rb') as handle:\n",
    "    mems_dict = pickle.load(handle)"
   ]
  },
  {
   "cell_type": "markdown",
   "metadata": {},
   "source": [
    "# Calculate pCO2 components for LET"
   ]
  },
  {
   "cell_type": "code",
   "execution_count": null,
   "metadata": {},
   "outputs": [],
   "source": [
    "#Loop through each model and ensemble member:\n",
    "\n",
    "for ens, mem_list in mems_dict.items():\n",
    "    print(ens)\n",
    "    for member in mem_list:\n",
    "        print(member)\n",
    "        \n",
    "        member_dir = f\"{ensemble_dir_head}/{ens}/member_{member}\"\n",
    "        \n",
    "        \n",
    "        if ens == \"CanESM2\":\n",
    "            # CanESM2 files are mislabeled as going to 201712\n",
    "            sst_path = f\"{member_dir}/SST_2D_mon_{ens}{member}_1x1_198201-201712.nc\"\n",
    "            pco2_path = f\"{member_dir}/pCO2_2D_mon_{ens}{member}_1x1_198201-201712.nc\"\n",
    "            file_out = f\"/data/artemis/workspace/vbennington/LET/{ens}/pCO2_components_{ens}{member}_198201-201712.nc\"\n",
    "        else:\n",
    "            sst_path = f\"{member_dir}/SST_2D_mon_{ens}{member}_1x1_198201-201701.nc\"\n",
    "            pco2_path = f\"{member_dir}/pCO2_2D_mon_{ens}{member}_1x1_198201-201701.nc\"\n",
    "            file_out = f\"/data/artemis/workspace/vbennington/LET/{ens}/pCO2_components_{ens}{member}_198201-201701.nc\"\n",
    "\n",
    "        # Load modeled SST and pCO2:\n",
    "        sst_series = xr.open_dataset(sst_path).SST\n",
    "        pco2_series = xr.open_dataset(pco2_path).pCO2   \n",
    "        \n",
    "        sst_series = sst_series.assign_coords({\"time\": pco2_series.time})\n",
    "        \n",
    "        \n",
    "        pco2_T, pco2_nonT = pCO2_components(pco2_series,sst_series)\n",
    "        \n",
    "        pCO2_pCO2T_diff = pco2_series - pco2_T   # Difference between pCO2 (total) and pCO2-T\n",
    "        \n",
    "        \n",
    "        comp = xr.Dataset({\n",
    "                        'pCO2':([\"time\",\"ylat\",\"xlon\"],pco2_series),\n",
    "                        'pCO2_T':([\"time\",\"ylat\",\"xlon\"],pco2_T),\n",
    "                        'pCO2_nonT':([\"time\",\"ylat\",\"xlon\"],pco2_nonT),\n",
    "                        'pCO2_pCO2T_diff':([\"time\",\"ylat\",\"xlon\"],pCO2_pCO2T_diff)},\n",
    "                        coords={'time': (['time'],sst_series.time.values),\n",
    "                        'ylat': (['ylat'],sst_series.ylat.values),\n",
    "                        'xlon':(['xlon'],sst_series.xlon.values)})\n",
    "\n",
    "        comp.to_netcdf(f\"{file_out}\")\n",
    "        \n",
    "        del sst_path, pco2_path, sst_series, pco2_series, pco2_T, pco2_nonT, pCO2_pCO2T_diff"
   ]
  }
 ],
 "metadata": {
  "kernelspec": {
   "display_name": "cesm_play",
   "language": "python",
   "name": "cesm_play"
  },
  "language_info": {
   "codemirror_mode": {
    "name": "ipython",
    "version": 3
   },
   "file_extension": ".py",
   "mimetype": "text/x-python",
   "name": "python",
   "nbconvert_exporter": "python",
   "pygments_lexer": "ipython3",
   "version": "3.8.5"
  }
 },
 "nbformat": 4,
 "nbformat_minor": 4
}
