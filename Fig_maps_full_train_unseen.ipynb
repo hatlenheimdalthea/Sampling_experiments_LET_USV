{
 "cells": [
  {
   "cell_type": "markdown",
   "metadata": {},
   "source": [
    "This notebook shows the difference between full, unseen and train 1x1 grid cells of the pCO2 reconstructions using the Large Ensemble Testbed. \n",
    "\n",
    "This notebook was created by Thea Hatlen Heimdal, in collaboration with Abby Shaum."
   ]
  },
  {
   "cell_type": "code",
   "execution_count": null,
   "metadata": {},
   "outputs": [],
   "source": [
    "# Modules\n",
    "\n",
    "import pandas as pd\n",
    "import xarray as xr\n",
    "import numpy as np\n",
    "import numpy.ma as ma\n",
    "%matplotlib inline\n",
    "%config InlineBackend.figure_format = 'jpg'\n",
    "%config InlineBackend.print_figure_kwargs = {'dpi':200, 'bbox_inches': 'tight'}\n",
    "import matplotlib as mpl\n",
    "from matplotlib.ticker import AutoMinorLocator\n",
    "import matplotlib.pyplot as plt\n",
    "import scipy\n",
    "import sklearn.linear_model \n",
    "import pickle\n",
    "import cmocean as cm\n",
    "import seaborn as sns"
   ]
  },
  {
   "cell_type": "code",
   "execution_count": 2,
   "metadata": {},
   "outputs": [],
   "source": [
    "# Bring in SOCAT-baseline reconstruction for one member of the LET\n",
    "pam = xr.open_dataset(\"/local/data/artemis/workspace/theimdal/saildrone/TEST/SOCAT/xg/CESM/member_001/xg_recon_pC02_2D_mon_CESM_001_1x1_198201-201701.nc\")"
   ]
  },
  {
   "cell_type": "code",
   "execution_count": 4,
   "metadata": {},
   "outputs": [
    {
     "data": {
      "text/html": [
       "<div><svg style=\"position: absolute; width: 0; height: 0; overflow: hidden\">\n",
       "<defs>\n",
       "<symbol id=\"icon-database\" viewBox=\"0 0 32 32\">\n",
       "<path d=\"M16 0c-8.837 0-16 2.239-16 5v4c0 2.761 7.163 5 16 5s16-2.239 16-5v-4c0-2.761-7.163-5-16-5z\"></path>\n",
       "<path d=\"M16 17c-8.837 0-16-2.239-16-5v6c0 2.761 7.163 5 16 5s16-2.239 16-5v-6c0 2.761-7.163 5-16 5z\"></path>\n",
       "<path d=\"M16 26c-8.837 0-16-2.239-16-5v6c0 2.761 7.163 5 16 5s16-2.239 16-5v-6c0 2.761-7.163 5-16 5z\"></path>\n",
       "</symbol>\n",
       "<symbol id=\"icon-file-text2\" viewBox=\"0 0 32 32\">\n",
       "<path d=\"M28.681 7.159c-0.694-0.947-1.662-2.053-2.724-3.116s-2.169-2.030-3.116-2.724c-1.612-1.182-2.393-1.319-2.841-1.319h-15.5c-1.378 0-2.5 1.121-2.5 2.5v27c0 1.378 1.122 2.5 2.5 2.5h23c1.378 0 2.5-1.122 2.5-2.5v-19.5c0-0.448-0.137-1.23-1.319-2.841zM24.543 5.457c0.959 0.959 1.712 1.825 2.268 2.543h-4.811v-4.811c0.718 0.556 1.584 1.309 2.543 2.268zM28 29.5c0 0.271-0.229 0.5-0.5 0.5h-23c-0.271 0-0.5-0.229-0.5-0.5v-27c0-0.271 0.229-0.5 0.5-0.5 0 0 15.499-0 15.5 0v7c0 0.552 0.448 1 1 1h7v19.5z\"></path>\n",
       "<path d=\"M23 26h-14c-0.552 0-1-0.448-1-1s0.448-1 1-1h14c0.552 0 1 0.448 1 1s-0.448 1-1 1z\"></path>\n",
       "<path d=\"M23 22h-14c-0.552 0-1-0.448-1-1s0.448-1 1-1h14c0.552 0 1 0.448 1 1s-0.448 1-1 1z\"></path>\n",
       "<path d=\"M23 18h-14c-0.552 0-1-0.448-1-1s0.448-1 1-1h14c0.552 0 1 0.448 1 1s-0.448 1-1 1z\"></path>\n",
       "</symbol>\n",
       "</defs>\n",
       "</svg>\n",
       "<style>/* CSS stylesheet for displaying xarray objects in jupyterlab.\n",
       " *\n",
       " */\n",
       "\n",
       ":root {\n",
       "  --xr-font-color0: var(--jp-content-font-color0, rgba(0, 0, 0, 1));\n",
       "  --xr-font-color2: var(--jp-content-font-color2, rgba(0, 0, 0, 0.54));\n",
       "  --xr-font-color3: var(--jp-content-font-color3, rgba(0, 0, 0, 0.38));\n",
       "  --xr-border-color: var(--jp-border-color2, #e0e0e0);\n",
       "  --xr-disabled-color: var(--jp-layout-color3, #bdbdbd);\n",
       "  --xr-background-color: var(--jp-layout-color0, white);\n",
       "  --xr-background-color-row-even: var(--jp-layout-color1, white);\n",
       "  --xr-background-color-row-odd: var(--jp-layout-color2, #eeeeee);\n",
       "}\n",
       "\n",
       "html[theme=dark],\n",
       "body.vscode-dark {\n",
       "  --xr-font-color0: rgba(255, 255, 255, 1);\n",
       "  --xr-font-color2: rgba(255, 255, 255, 0.54);\n",
       "  --xr-font-color3: rgba(255, 255, 255, 0.38);\n",
       "  --xr-border-color: #1F1F1F;\n",
       "  --xr-disabled-color: #515151;\n",
       "  --xr-background-color: #111111;\n",
       "  --xr-background-color-row-even: #111111;\n",
       "  --xr-background-color-row-odd: #313131;\n",
       "}\n",
       "\n",
       ".xr-wrap {\n",
       "  display: block;\n",
       "  min-width: 300px;\n",
       "  max-width: 700px;\n",
       "}\n",
       "\n",
       ".xr-text-repr-fallback {\n",
       "  /* fallback to plain text repr when CSS is not injected (untrusted notebook) */\n",
       "  display: none;\n",
       "}\n",
       "\n",
       ".xr-header {\n",
       "  padding-top: 6px;\n",
       "  padding-bottom: 6px;\n",
       "  margin-bottom: 4px;\n",
       "  border-bottom: solid 1px var(--xr-border-color);\n",
       "}\n",
       "\n",
       ".xr-header > div,\n",
       ".xr-header > ul {\n",
       "  display: inline;\n",
       "  margin-top: 0;\n",
       "  margin-bottom: 0;\n",
       "}\n",
       "\n",
       ".xr-obj-type,\n",
       ".xr-array-name {\n",
       "  margin-left: 2px;\n",
       "  margin-right: 10px;\n",
       "}\n",
       "\n",
       ".xr-obj-type {\n",
       "  color: var(--xr-font-color2);\n",
       "}\n",
       "\n",
       ".xr-sections {\n",
       "  padding-left: 0 !important;\n",
       "  display: grid;\n",
       "  grid-template-columns: 150px auto auto 1fr 20px 20px;\n",
       "}\n",
       "\n",
       ".xr-section-item {\n",
       "  display: contents;\n",
       "}\n",
       "\n",
       ".xr-section-item input {\n",
       "  display: none;\n",
       "}\n",
       "\n",
       ".xr-section-item input + label {\n",
       "  color: var(--xr-disabled-color);\n",
       "}\n",
       "\n",
       ".xr-section-item input:enabled + label {\n",
       "  cursor: pointer;\n",
       "  color: var(--xr-font-color2);\n",
       "}\n",
       "\n",
       ".xr-section-item input:enabled + label:hover {\n",
       "  color: var(--xr-font-color0);\n",
       "}\n",
       "\n",
       ".xr-section-summary {\n",
       "  grid-column: 1;\n",
       "  color: var(--xr-font-color2);\n",
       "  font-weight: 500;\n",
       "}\n",
       "\n",
       ".xr-section-summary > span {\n",
       "  display: inline-block;\n",
       "  padding-left: 0.5em;\n",
       "}\n",
       "\n",
       ".xr-section-summary-in:disabled + label {\n",
       "  color: var(--xr-font-color2);\n",
       "}\n",
       "\n",
       ".xr-section-summary-in + label:before {\n",
       "  display: inline-block;\n",
       "  content: '►';\n",
       "  font-size: 11px;\n",
       "  width: 15px;\n",
       "  text-align: center;\n",
       "}\n",
       "\n",
       ".xr-section-summary-in:disabled + label:before {\n",
       "  color: var(--xr-disabled-color);\n",
       "}\n",
       "\n",
       ".xr-section-summary-in:checked + label:before {\n",
       "  content: '▼';\n",
       "}\n",
       "\n",
       ".xr-section-summary-in:checked + label > span {\n",
       "  display: none;\n",
       "}\n",
       "\n",
       ".xr-section-summary,\n",
       ".xr-section-inline-details {\n",
       "  padding-top: 4px;\n",
       "  padding-bottom: 4px;\n",
       "}\n",
       "\n",
       ".xr-section-inline-details {\n",
       "  grid-column: 2 / -1;\n",
       "}\n",
       "\n",
       ".xr-section-details {\n",
       "  display: none;\n",
       "  grid-column: 1 / -1;\n",
       "  margin-bottom: 5px;\n",
       "}\n",
       "\n",
       ".xr-section-summary-in:checked ~ .xr-section-details {\n",
       "  display: contents;\n",
       "}\n",
       "\n",
       ".xr-array-wrap {\n",
       "  grid-column: 1 / -1;\n",
       "  display: grid;\n",
       "  grid-template-columns: 20px auto;\n",
       "}\n",
       "\n",
       ".xr-array-wrap > label {\n",
       "  grid-column: 1;\n",
       "  vertical-align: top;\n",
       "}\n",
       "\n",
       ".xr-preview {\n",
       "  color: var(--xr-font-color3);\n",
       "}\n",
       "\n",
       ".xr-array-preview,\n",
       ".xr-array-data {\n",
       "  padding: 0 5px !important;\n",
       "  grid-column: 2;\n",
       "}\n",
       "\n",
       ".xr-array-data,\n",
       ".xr-array-in:checked ~ .xr-array-preview {\n",
       "  display: none;\n",
       "}\n",
       "\n",
       ".xr-array-in:checked ~ .xr-array-data,\n",
       ".xr-array-preview {\n",
       "  display: inline-block;\n",
       "}\n",
       "\n",
       ".xr-dim-list {\n",
       "  display: inline-block !important;\n",
       "  list-style: none;\n",
       "  padding: 0 !important;\n",
       "  margin: 0;\n",
       "}\n",
       "\n",
       ".xr-dim-list li {\n",
       "  display: inline-block;\n",
       "  padding: 0;\n",
       "  margin: 0;\n",
       "}\n",
       "\n",
       ".xr-dim-list:before {\n",
       "  content: '(';\n",
       "}\n",
       "\n",
       ".xr-dim-list:after {\n",
       "  content: ')';\n",
       "}\n",
       "\n",
       ".xr-dim-list li:not(:last-child):after {\n",
       "  content: ',';\n",
       "  padding-right: 5px;\n",
       "}\n",
       "\n",
       ".xr-has-index {\n",
       "  font-weight: bold;\n",
       "}\n",
       "\n",
       ".xr-var-list,\n",
       ".xr-var-item {\n",
       "  display: contents;\n",
       "}\n",
       "\n",
       ".xr-var-item > div,\n",
       ".xr-var-item label,\n",
       ".xr-var-item > .xr-var-name span {\n",
       "  background-color: var(--xr-background-color-row-even);\n",
       "  margin-bottom: 0;\n",
       "}\n",
       "\n",
       ".xr-var-item > .xr-var-name:hover span {\n",
       "  padding-right: 5px;\n",
       "}\n",
       "\n",
       ".xr-var-list > li:nth-child(odd) > div,\n",
       ".xr-var-list > li:nth-child(odd) > label,\n",
       ".xr-var-list > li:nth-child(odd) > .xr-var-name span {\n",
       "  background-color: var(--xr-background-color-row-odd);\n",
       "}\n",
       "\n",
       ".xr-var-name {\n",
       "  grid-column: 1;\n",
       "}\n",
       "\n",
       ".xr-var-dims {\n",
       "  grid-column: 2;\n",
       "}\n",
       "\n",
       ".xr-var-dtype {\n",
       "  grid-column: 3;\n",
       "  text-align: right;\n",
       "  color: var(--xr-font-color2);\n",
       "}\n",
       "\n",
       ".xr-var-preview {\n",
       "  grid-column: 4;\n",
       "}\n",
       "\n",
       ".xr-var-name,\n",
       ".xr-var-dims,\n",
       ".xr-var-dtype,\n",
       ".xr-preview,\n",
       ".xr-attrs dt {\n",
       "  white-space: nowrap;\n",
       "  overflow: hidden;\n",
       "  text-overflow: ellipsis;\n",
       "  padding-right: 10px;\n",
       "}\n",
       "\n",
       ".xr-var-name:hover,\n",
       ".xr-var-dims:hover,\n",
       ".xr-var-dtype:hover,\n",
       ".xr-attrs dt:hover {\n",
       "  overflow: visible;\n",
       "  width: auto;\n",
       "  z-index: 1;\n",
       "}\n",
       "\n",
       ".xr-var-attrs,\n",
       ".xr-var-data {\n",
       "  display: none;\n",
       "  background-color: var(--xr-background-color) !important;\n",
       "  padding-bottom: 5px !important;\n",
       "}\n",
       "\n",
       ".xr-var-attrs-in:checked ~ .xr-var-attrs,\n",
       ".xr-var-data-in:checked ~ .xr-var-data {\n",
       "  display: block;\n",
       "}\n",
       "\n",
       ".xr-var-data > table {\n",
       "  float: right;\n",
       "}\n",
       "\n",
       ".xr-var-name span,\n",
       ".xr-var-data,\n",
       ".xr-attrs {\n",
       "  padding-left: 25px !important;\n",
       "}\n",
       "\n",
       ".xr-attrs,\n",
       ".xr-var-attrs,\n",
       ".xr-var-data {\n",
       "  grid-column: 1 / -1;\n",
       "}\n",
       "\n",
       "dl.xr-attrs {\n",
       "  padding: 0;\n",
       "  margin: 0;\n",
       "  display: grid;\n",
       "  grid-template-columns: 125px auto;\n",
       "}\n",
       "\n",
       ".xr-attrs dt,\n",
       ".xr-attrs dd {\n",
       "  padding: 0;\n",
       "  margin: 0;\n",
       "  float: left;\n",
       "  padding-right: 10px;\n",
       "  width: auto;\n",
       "}\n",
       "\n",
       ".xr-attrs dt {\n",
       "  font-weight: normal;\n",
       "  grid-column: 1;\n",
       "}\n",
       "\n",
       ".xr-attrs dt:hover span {\n",
       "  display: inline-block;\n",
       "  background: var(--xr-background-color);\n",
       "  padding-right: 10px;\n",
       "}\n",
       "\n",
       ".xr-attrs dd {\n",
       "  grid-column: 2;\n",
       "  white-space: pre-wrap;\n",
       "  word-break: break-all;\n",
       "}\n",
       "\n",
       ".xr-icon-database,\n",
       ".xr-icon-file-text2 {\n",
       "  display: inline-block;\n",
       "  vertical-align: middle;\n",
       "  width: 1em;\n",
       "  height: 1.5em !important;\n",
       "  stroke-width: 0;\n",
       "  stroke: currentColor;\n",
       "  fill: currentColor;\n",
       "}\n",
       "</style><pre class='xr-text-repr-fallback'>&lt;xarray.Dataset&gt;\n",
       "Dimensions:           (time: 421, xlon: 360, ylat: 180)\n",
       "Coordinates:\n",
       "  * time              (time) object 1982-02-01 00:00:00 ... 2017-02-01 00:00:00\n",
       "  * xlon              (xlon) float64 0.5 1.5 2.5 3.5 ... 356.5 357.5 358.5 359.5\n",
       "  * ylat              (ylat) float64 -89.5 -88.5 -87.5 -86.5 ... 87.5 88.5 89.5\n",
       "Data variables:\n",
       "    net_mask          (time, xlon, ylat) float32 ...\n",
       "    socat_mask        (time, xlon, ylat) float64 ...\n",
       "    pCO2_DIC          (time, xlon, ylat) float64 ...\n",
       "    pCO2_DIC_recon    (time, xlon, ylat) float64 ...\n",
       "    pCO2_DIC_socat    (time, xlon, ylat) float64 ...\n",
       "    pCO2_DIC_nosocat  (time, xlon, ylat) float64 ...\n",
       "    pCO2_DIC_test     (time, xlon, ylat) float64 ...\n",
       "    pCO2_DIC_train    (time, xlon, ylat) float64 ...</pre><div class='xr-wrap' hidden><div class='xr-header'><div class='xr-obj-type'>xarray.Dataset</div></div><ul class='xr-sections'><li class='xr-section-item'><input id='section-43f569be-9db1-43d4-87af-8f05a402bfe8' class='xr-section-summary-in' type='checkbox' disabled ><label for='section-43f569be-9db1-43d4-87af-8f05a402bfe8' class='xr-section-summary'  title='Expand/collapse section'>Dimensions:</label><div class='xr-section-inline-details'><ul class='xr-dim-list'><li><span class='xr-has-index'>time</span>: 421</li><li><span class='xr-has-index'>xlon</span>: 360</li><li><span class='xr-has-index'>ylat</span>: 180</li></ul></div><div class='xr-section-details'></div></li><li class='xr-section-item'><input id='section-9e76a826-a449-4d8b-9704-1ddd5d5f4ac1' class='xr-section-summary-in' type='checkbox'  checked><label for='section-9e76a826-a449-4d8b-9704-1ddd5d5f4ac1' class='xr-section-summary' >Coordinates: <span>(3)</span></label><div class='xr-section-inline-details'></div><div class='xr-section-details'><ul class='xr-var-list'><li class='xr-var-item'><div class='xr-var-name'><span class='xr-has-index'>time</span></div><div class='xr-var-dims'>(time)</div><div class='xr-var-dtype'>object</div><div class='xr-var-preview xr-preview'>1982-02-01 00:00:00 ... 2017-02-...</div><input id='attrs-afeb2f80-277a-493c-ab1a-cf58cd2cbc66' class='xr-var-attrs-in' type='checkbox' disabled><label for='attrs-afeb2f80-277a-493c-ab1a-cf58cd2cbc66' title='Show/Hide attributes'><svg class='icon xr-icon-file-text2'><use xlink:href='#icon-file-text2'></use></svg></label><input id='data-da1b7454-1295-4bc5-8749-041b4d7c84e6' class='xr-var-data-in' type='checkbox'><label for='data-da1b7454-1295-4bc5-8749-041b4d7c84e6' title='Show/Hide data repr'><svg class='icon xr-icon-database'><use xlink:href='#icon-database'></use></svg></label><div class='xr-var-attrs'><dl class='xr-attrs'></dl></div><div class='xr-var-data'><pre>array([cftime.DatetimeNoLeap(1982, 2, 1, 0, 0, 0, 0),\n",
       "       cftime.DatetimeNoLeap(1982, 3, 1, 0, 0, 0, 0),\n",
       "       cftime.DatetimeNoLeap(1982, 4, 1, 0, 0, 0, 0), ...,\n",
       "       cftime.DatetimeNoLeap(2016, 12, 1, 0, 0, 0, 0),\n",
       "       cftime.DatetimeNoLeap(2017, 1, 1, 0, 0, 0, 0),\n",
       "       cftime.DatetimeNoLeap(2017, 2, 1, 0, 0, 0, 0)], dtype=object)</pre></div></li><li class='xr-var-item'><div class='xr-var-name'><span class='xr-has-index'>xlon</span></div><div class='xr-var-dims'>(xlon)</div><div class='xr-var-dtype'>float64</div><div class='xr-var-preview xr-preview'>0.5 1.5 2.5 ... 357.5 358.5 359.5</div><input id='attrs-81597c33-47d9-4585-a49c-0b2eaccbef4a' class='xr-var-attrs-in' type='checkbox' disabled><label for='attrs-81597c33-47d9-4585-a49c-0b2eaccbef4a' title='Show/Hide attributes'><svg class='icon xr-icon-file-text2'><use xlink:href='#icon-file-text2'></use></svg></label><input id='data-b67d39dd-5068-4541-831f-854042f181ad' class='xr-var-data-in' type='checkbox'><label for='data-b67d39dd-5068-4541-831f-854042f181ad' title='Show/Hide data repr'><svg class='icon xr-icon-database'><use xlink:href='#icon-database'></use></svg></label><div class='xr-var-attrs'><dl class='xr-attrs'></dl></div><div class='xr-var-data'><pre>array([  0.5,   1.5,   2.5, ..., 357.5, 358.5, 359.5])</pre></div></li><li class='xr-var-item'><div class='xr-var-name'><span class='xr-has-index'>ylat</span></div><div class='xr-var-dims'>(ylat)</div><div class='xr-var-dtype'>float64</div><div class='xr-var-preview xr-preview'>-89.5 -88.5 -87.5 ... 88.5 89.5</div><input id='attrs-b8b7e748-6605-4b54-9489-58de184d9ec1' class='xr-var-attrs-in' type='checkbox' disabled><label for='attrs-b8b7e748-6605-4b54-9489-58de184d9ec1' title='Show/Hide attributes'><svg class='icon xr-icon-file-text2'><use xlink:href='#icon-file-text2'></use></svg></label><input id='data-471b0644-bb0d-45a8-a4ae-184d295110c8' class='xr-var-data-in' type='checkbox'><label for='data-471b0644-bb0d-45a8-a4ae-184d295110c8' title='Show/Hide data repr'><svg class='icon xr-icon-database'><use xlink:href='#icon-database'></use></svg></label><div class='xr-var-attrs'><dl class='xr-attrs'></dl></div><div class='xr-var-data'><pre>array([-89.5, -88.5, -87.5, -86.5, -85.5, -84.5, -83.5, -82.5, -81.5, -80.5,\n",
       "       -79.5, -78.5, -77.5, -76.5, -75.5, -74.5, -73.5, -72.5, -71.5, -70.5,\n",
       "       -69.5, -68.5, -67.5, -66.5, -65.5, -64.5, -63.5, -62.5, -61.5, -60.5,\n",
       "       -59.5, -58.5, -57.5, -56.5, -55.5, -54.5, -53.5, -52.5, -51.5, -50.5,\n",
       "       -49.5, -48.5, -47.5, -46.5, -45.5, -44.5, -43.5, -42.5, -41.5, -40.5,\n",
       "       -39.5, -38.5, -37.5, -36.5, -35.5, -34.5, -33.5, -32.5, -31.5, -30.5,\n",
       "       -29.5, -28.5, -27.5, -26.5, -25.5, -24.5, -23.5, -22.5, -21.5, -20.5,\n",
       "       -19.5, -18.5, -17.5, -16.5, -15.5, -14.5, -13.5, -12.5, -11.5, -10.5,\n",
       "        -9.5,  -8.5,  -7.5,  -6.5,  -5.5,  -4.5,  -3.5,  -2.5,  -1.5,  -0.5,\n",
       "         0.5,   1.5,   2.5,   3.5,   4.5,   5.5,   6.5,   7.5,   8.5,   9.5,\n",
       "        10.5,  11.5,  12.5,  13.5,  14.5,  15.5,  16.5,  17.5,  18.5,  19.5,\n",
       "        20.5,  21.5,  22.5,  23.5,  24.5,  25.5,  26.5,  27.5,  28.5,  29.5,\n",
       "        30.5,  31.5,  32.5,  33.5,  34.5,  35.5,  36.5,  37.5,  38.5,  39.5,\n",
       "        40.5,  41.5,  42.5,  43.5,  44.5,  45.5,  46.5,  47.5,  48.5,  49.5,\n",
       "        50.5,  51.5,  52.5,  53.5,  54.5,  55.5,  56.5,  57.5,  58.5,  59.5,\n",
       "        60.5,  61.5,  62.5,  63.5,  64.5,  65.5,  66.5,  67.5,  68.5,  69.5,\n",
       "        70.5,  71.5,  72.5,  73.5,  74.5,  75.5,  76.5,  77.5,  78.5,  79.5,\n",
       "        80.5,  81.5,  82.5,  83.5,  84.5,  85.5,  86.5,  87.5,  88.5,  89.5])</pre></div></li></ul></div></li><li class='xr-section-item'><input id='section-f78af439-0669-458a-9ae8-db8e896f0343' class='xr-section-summary-in' type='checkbox'  checked><label for='section-f78af439-0669-458a-9ae8-db8e896f0343' class='xr-section-summary' >Data variables: <span>(8)</span></label><div class='xr-section-inline-details'></div><div class='xr-section-details'><ul class='xr-var-list'><li class='xr-var-item'><div class='xr-var-name'><span>net_mask</span></div><div class='xr-var-dims'>(time, xlon, ylat)</div><div class='xr-var-dtype'>float32</div><div class='xr-var-preview xr-preview'>...</div><input id='attrs-f63d9137-aa0a-440a-a6bf-75797fee57e0' class='xr-var-attrs-in' type='checkbox' disabled><label for='attrs-f63d9137-aa0a-440a-a6bf-75797fee57e0' title='Show/Hide attributes'><svg class='icon xr-icon-file-text2'><use xlink:href='#icon-file-text2'></use></svg></label><input id='data-2a5db4a2-3b49-40e1-ba94-9913ff8341d2' class='xr-var-data-in' type='checkbox'><label for='data-2a5db4a2-3b49-40e1-ba94-9913ff8341d2' title='Show/Hide data repr'><svg class='icon xr-icon-database'><use xlink:href='#icon-database'></use></svg></label><div class='xr-var-attrs'><dl class='xr-attrs'></dl></div><div class='xr-var-data'><pre>[27280800 values with dtype=float32]</pre></div></li><li class='xr-var-item'><div class='xr-var-name'><span>socat_mask</span></div><div class='xr-var-dims'>(time, xlon, ylat)</div><div class='xr-var-dtype'>float64</div><div class='xr-var-preview xr-preview'>...</div><input id='attrs-6752b067-a349-432a-854c-299df8853286' class='xr-var-attrs-in' type='checkbox' disabled><label for='attrs-6752b067-a349-432a-854c-299df8853286' title='Show/Hide attributes'><svg class='icon xr-icon-file-text2'><use xlink:href='#icon-file-text2'></use></svg></label><input id='data-225a93ac-eb3f-4d13-8028-00a8738accc7' class='xr-var-data-in' type='checkbox'><label for='data-225a93ac-eb3f-4d13-8028-00a8738accc7' title='Show/Hide data repr'><svg class='icon xr-icon-database'><use xlink:href='#icon-database'></use></svg></label><div class='xr-var-attrs'><dl class='xr-attrs'></dl></div><div class='xr-var-data'><pre>[27280800 values with dtype=float64]</pre></div></li><li class='xr-var-item'><div class='xr-var-name'><span>pCO2_DIC</span></div><div class='xr-var-dims'>(time, xlon, ylat)</div><div class='xr-var-dtype'>float64</div><div class='xr-var-preview xr-preview'>...</div><input id='attrs-45563337-d242-49a9-b8b1-7438c73fba8c' class='xr-var-attrs-in' type='checkbox' disabled><label for='attrs-45563337-d242-49a9-b8b1-7438c73fba8c' title='Show/Hide attributes'><svg class='icon xr-icon-file-text2'><use xlink:href='#icon-file-text2'></use></svg></label><input id='data-3be9f700-4104-4588-a9ba-3bcaa6cf9321' class='xr-var-data-in' type='checkbox'><label for='data-3be9f700-4104-4588-a9ba-3bcaa6cf9321' title='Show/Hide data repr'><svg class='icon xr-icon-database'><use xlink:href='#icon-database'></use></svg></label><div class='xr-var-attrs'><dl class='xr-attrs'></dl></div><div class='xr-var-data'><pre>[27280800 values with dtype=float64]</pre></div></li><li class='xr-var-item'><div class='xr-var-name'><span>pCO2_DIC_recon</span></div><div class='xr-var-dims'>(time, xlon, ylat)</div><div class='xr-var-dtype'>float64</div><div class='xr-var-preview xr-preview'>...</div><input id='attrs-117031bf-8019-47a5-9bbd-58e4cb5c9848' class='xr-var-attrs-in' type='checkbox' disabled><label for='attrs-117031bf-8019-47a5-9bbd-58e4cb5c9848' title='Show/Hide attributes'><svg class='icon xr-icon-file-text2'><use xlink:href='#icon-file-text2'></use></svg></label><input id='data-04d9e0e8-9441-4014-b977-ec1848dc1f46' class='xr-var-data-in' type='checkbox'><label for='data-04d9e0e8-9441-4014-b977-ec1848dc1f46' title='Show/Hide data repr'><svg class='icon xr-icon-database'><use xlink:href='#icon-database'></use></svg></label><div class='xr-var-attrs'><dl class='xr-attrs'></dl></div><div class='xr-var-data'><pre>[27280800 values with dtype=float64]</pre></div></li><li class='xr-var-item'><div class='xr-var-name'><span>pCO2_DIC_socat</span></div><div class='xr-var-dims'>(time, xlon, ylat)</div><div class='xr-var-dtype'>float64</div><div class='xr-var-preview xr-preview'>...</div><input id='attrs-058b9934-77ae-489f-b599-5acb5b1e1212' class='xr-var-attrs-in' type='checkbox' disabled><label for='attrs-058b9934-77ae-489f-b599-5acb5b1e1212' title='Show/Hide attributes'><svg class='icon xr-icon-file-text2'><use xlink:href='#icon-file-text2'></use></svg></label><input id='data-b92b02c8-46ae-46f8-ae49-3503a7a62259' class='xr-var-data-in' type='checkbox'><label for='data-b92b02c8-46ae-46f8-ae49-3503a7a62259' title='Show/Hide data repr'><svg class='icon xr-icon-database'><use xlink:href='#icon-database'></use></svg></label><div class='xr-var-attrs'><dl class='xr-attrs'></dl></div><div class='xr-var-data'><pre>[27280800 values with dtype=float64]</pre></div></li><li class='xr-var-item'><div class='xr-var-name'><span>pCO2_DIC_nosocat</span></div><div class='xr-var-dims'>(time, xlon, ylat)</div><div class='xr-var-dtype'>float64</div><div class='xr-var-preview xr-preview'>...</div><input id='attrs-341fda20-1b03-429b-969b-33af47e4e55f' class='xr-var-attrs-in' type='checkbox' disabled><label for='attrs-341fda20-1b03-429b-969b-33af47e4e55f' title='Show/Hide attributes'><svg class='icon xr-icon-file-text2'><use xlink:href='#icon-file-text2'></use></svg></label><input id='data-91c857b9-ce2a-4d0b-8564-16fa89525903' class='xr-var-data-in' type='checkbox'><label for='data-91c857b9-ce2a-4d0b-8564-16fa89525903' title='Show/Hide data repr'><svg class='icon xr-icon-database'><use xlink:href='#icon-database'></use></svg></label><div class='xr-var-attrs'><dl class='xr-attrs'></dl></div><div class='xr-var-data'><pre>[27280800 values with dtype=float64]</pre></div></li><li class='xr-var-item'><div class='xr-var-name'><span>pCO2_DIC_test</span></div><div class='xr-var-dims'>(time, xlon, ylat)</div><div class='xr-var-dtype'>float64</div><div class='xr-var-preview xr-preview'>...</div><input id='attrs-6e041f7f-f375-44ec-aa27-e3a3d93e3a31' class='xr-var-attrs-in' type='checkbox' disabled><label for='attrs-6e041f7f-f375-44ec-aa27-e3a3d93e3a31' title='Show/Hide attributes'><svg class='icon xr-icon-file-text2'><use xlink:href='#icon-file-text2'></use></svg></label><input id='data-578eb6b9-452e-4d8f-82b0-53f97e7ff482' class='xr-var-data-in' type='checkbox'><label for='data-578eb6b9-452e-4d8f-82b0-53f97e7ff482' title='Show/Hide data repr'><svg class='icon xr-icon-database'><use xlink:href='#icon-database'></use></svg></label><div class='xr-var-attrs'><dl class='xr-attrs'></dl></div><div class='xr-var-data'><pre>[27280800 values with dtype=float64]</pre></div></li><li class='xr-var-item'><div class='xr-var-name'><span>pCO2_DIC_train</span></div><div class='xr-var-dims'>(time, xlon, ylat)</div><div class='xr-var-dtype'>float64</div><div class='xr-var-preview xr-preview'>...</div><input id='attrs-38dc5afa-4639-4b89-96b3-f14ee9d8f9b5' class='xr-var-attrs-in' type='checkbox' disabled><label for='attrs-38dc5afa-4639-4b89-96b3-f14ee9d8f9b5' title='Show/Hide attributes'><svg class='icon xr-icon-file-text2'><use xlink:href='#icon-file-text2'></use></svg></label><input id='data-7820987c-9026-4eaa-b73d-7bdb3c6cbd1e' class='xr-var-data-in' type='checkbox'><label for='data-7820987c-9026-4eaa-b73d-7bdb3c6cbd1e' title='Show/Hide data repr'><svg class='icon xr-icon-database'><use xlink:href='#icon-database'></use></svg></label><div class='xr-var-attrs'><dl class='xr-attrs'></dl></div><div class='xr-var-data'><pre>[27280800 values with dtype=float64]</pre></div></li></ul></div></li><li class='xr-section-item'><input id='section-714038af-f58d-44b4-a953-59f7a1c677ae' class='xr-section-summary-in' type='checkbox' disabled ><label for='section-714038af-f58d-44b4-a953-59f7a1c677ae' class='xr-section-summary'  title='Expand/collapse section'>Attributes: <span>(0)</span></label><div class='xr-section-inline-details'></div><div class='xr-section-details'><dl class='xr-attrs'></dl></div></li></ul></div></div>"
      ],
      "text/plain": [
       "<xarray.Dataset>\n",
       "Dimensions:           (time: 421, xlon: 360, ylat: 180)\n",
       "Coordinates:\n",
       "  * time              (time) object 1982-02-01 00:00:00 ... 2017-02-01 00:00:00\n",
       "  * xlon              (xlon) float64 0.5 1.5 2.5 3.5 ... 356.5 357.5 358.5 359.5\n",
       "  * ylat              (ylat) float64 -89.5 -88.5 -87.5 -86.5 ... 87.5 88.5 89.5\n",
       "Data variables:\n",
       "    net_mask          (time, xlon, ylat) float32 ...\n",
       "    socat_mask        (time, xlon, ylat) float64 ...\n",
       "    pCO2_DIC          (time, xlon, ylat) float64 ...\n",
       "    pCO2_DIC_recon    (time, xlon, ylat) float64 ...\n",
       "    pCO2_DIC_socat    (time, xlon, ylat) float64 ...\n",
       "    pCO2_DIC_nosocat  (time, xlon, ylat) float64 ...\n",
       "    pCO2_DIC_test     (time, xlon, ylat) float64 ...\n",
       "    pCO2_DIC_train    (time, xlon, ylat) float64 ..."
      ]
     },
     "execution_count": 4,
     "metadata": {},
     "output_type": "execute_result"
    }
   ],
   "source": [
    "pam"
   ]
  },
  {
   "cell_type": "code",
   "execution_count": 104,
   "metadata": {},
   "outputs": [
    {
     "data": {
      "image/png": "[encoded data removed]",
      "text/plain": [
       "<Figure size 432x288 with 2 Axes>"
      ]
     },
     "metadata": {
      "needs_background": "light"
     },
     "output_type": "display_data"
    }
   ],
   "source": [
    "#Plot pCO2-Residual FULL reconstruction (includes everything, train, test, unseen)\n",
    "fig = plt.figure()\n",
    "plt.contourf(pam.pCO2_DIC_recon.xlon,pam.pCO2_DIC_recon.ylat,pam.pCO2_DIC_recon[410,:,:].transpose())\n",
    "plt.title(\"Reconstruction - full\", fontweight='bold')\n",
    "plt.colorbar(label=\"pCO2-Residual ($\\mu atm$)\")\n",
    "fig.savefig(\"/home/theimdal/full_recon\",dpi=300, bbox_inches=\"tight\")"
   ]
  },
  {
   "cell_type": "code",
   "execution_count": 29,
   "metadata": {},
   "outputs": [
    {
     "data": {
      "text/plain": [
       "14200255"
      ]
     },
     "execution_count": 29,
     "metadata": {},
     "output_type": "execute_result"
    }
   ],
   "source": [
    "# Calculate all 1x1 grid cells for the full reconstruction \n",
    "pco2DIC_recon_size = np.count_nonzero(~np.isnan(pam.pCO2_DIC_recon))\n",
    "pco2DIC_recon_size"
   ]
  },
  {
   "cell_type": "code",
   "execution_count": 96,
   "metadata": {},
   "outputs": [
    {
     "data": {
      "text/plain": [
       "33730"
      ]
     },
     "execution_count": 96,
     "metadata": {},
     "output_type": "execute_result"
    }
   ],
   "source": [
    "# Calculate 1x1 grid cells for one specific month for the full reconstruction\n",
    "pco2DIC_recon_size = np.count_nonzero(~np.isnan(pam.pCO2_DIC_recon[410,:,:]))\n",
    "pco2DIC_recon_size"
   ]
  },
  {
   "cell_type": "code",
   "execution_count": 52,
   "metadata": {},
   "outputs": [
    {
     "data": {
      "text/plain": [
       "<matplotlib.colorbar.Colorbar at 0x7f18772b9dc0>"
      ]
     },
     "execution_count": 52,
     "metadata": {},
     "output_type": "execute_result"
    },
    {
     "data": {
      "image/png": "[encoded data removed]",
      "text/plain": [
       "<Figure size 432x288 with 2 Axes>"
      ]
     },
     "metadata": {
      "needs_background": "light"
     },
     "output_type": "display_data"
    }
   ],
   "source": [
    "#TRAIN ONLY all months\n",
    "fig = plt.figure()\n",
    "plt.contourf(pam.pCO2_DIC_train.xlon,pam.pCO2_DIC_train.ylat,pam.pCO2_DIC_train.mean('time').transpose())\n",
    "plt.title(\"Reconstruction - training data\", fontweight='bold')\n",
    "plt.colorbar(label=\"pCO2-Residual ($\\mu atm$)\")"
   ]
  },
  {
   "cell_type": "code",
   "execution_count": 103,
   "metadata": {},
   "outputs": [
    {
     "data": {
      "image/png": "[encoded data removed]",
      "text/plain": [
       "<Figure size 432x288 with 2 Axes>"
      ]
     },
     "metadata": {
      "needs_background": "light"
     },
     "output_type": "display_data"
    }
   ],
   "source": [
    "#TRAIN ONLY one specific month\n",
    "fig = plt.figure()\n",
    "plt.contourf(pam.pCO2_DIC_train.xlon,pam.pCO2_DIC_train.ylat,pam.pCO2_DIC_train[410,:,:].transpose())\n",
    "plt.title(\"Reconstruction - training data\", fontweight='bold')\n",
    "plt.colorbar(label=\"pCO2-Residual ($\\mu atm$)\")\n",
    "fig.savefig(\"/home/theimdal/train_recon\",dpi=300, bbox_inches=\"tight\")"
   ]
  },
  {
   "cell_type": "code",
   "execution_count": 10,
   "metadata": {},
   "outputs": [
    {
     "data": {
      "text/plain": [
       "175606"
      ]
     },
     "execution_count": 10,
     "metadata": {},
     "output_type": "execute_result"
    }
   ],
   "source": [
    "# Calculate all 1x1 grid cells for the training data\n",
    "train = np.count_nonzero(~np.isnan(pam.pCO2_DIC_train))\n",
    "train"
   ]
  },
  {
   "cell_type": "code",
   "execution_count": 98,
   "metadata": {},
   "outputs": [
    {
     "data": {
      "text/plain": [
       "1190"
      ]
     },
     "execution_count": 98,
     "metadata": {},
     "output_type": "execute_result"
    }
   ],
   "source": [
    "# Calculate 1x1 grid cells for one specific month for the training data\n",
    "train = np.count_nonzero(~np.isnan(pam.pCO2_DIC_train[410,:,:]))\n",
    "train"
   ]
  },
  {
   "cell_type": "code",
   "execution_count": 102,
   "metadata": {},
   "outputs": [
    {
     "data": {
      "image/png": "[encoded data removed]",
      "text/plain": [
       "<Figure size 432x288 with 2 Axes>"
      ]
     },
     "metadata": {
      "needs_background": "light"
     },
     "output_type": "display_data"
    }
   ],
   "source": [
    "#UNSEEN RECONSTRUCTION\n",
    "fig = plt.figure()\n",
    "plt.contourf(pam.pCO2_DIC_nosocat.xlon,pam.pCO2_DIC_nosocat.ylat,pam.pCO2_DIC_nosocat[410,:,:].transpose())\n",
    "plt.title(\"Reconstruction - unseen data\", fontweight='bold')\n",
    "plt.colorbar(label=\"pCO2-Residual ($\\mu atm$)\")\n",
    "fig.savefig(\"/home/theimdal/unseen_recon\",dpi=300, bbox_inches=\"tight\")"
   ]
  },
  {
   "cell_type": "code",
   "execution_count": 12,
   "metadata": {},
   "outputs": [
    {
     "data": {
      "text/plain": [
       "13979526"
      ]
     },
     "execution_count": 12,
     "metadata": {},
     "output_type": "execute_result"
    }
   ],
   "source": [
    "# Calculate all 1x1 grid cells for the unseen reconstruction\n",
    "unseen = np.count_nonzero(~np.isnan(pam.pCO2_DIC_nosocat))\n",
    "unseen"
   ]
  },
  {
   "cell_type": "code",
   "execution_count": 97,
   "metadata": {},
   "outputs": [
    {
     "data": {
      "text/plain": [
       "32540"
      ]
     },
     "execution_count": 97,
     "metadata": {},
     "output_type": "execute_result"
    }
   ],
   "source": [
    "# Calculate 1x1 grid cells for one specific month for the unseen reconstruction\n",
    "unseen = np.count_nonzero(~np.isnan(pam.pCO2_DIC_nosocat[410,:,:]))\n",
    "unseen"
   ]
  }
 ],
 "metadata": {
  "kernelspec": {
   "display_name": "cesm_play",
   "language": "python",
   "name": "cesm_play"
  },
  "language_info": {
   "codemirror_mode": {
    "name": "ipython",
    "version": 3
   },
   "file_extension": ".py",
   "mimetype": "text/x-python",
   "name": "python",
   "nbconvert_exporter": "python",
   "pygments_lexer": "ipython3",
   "version": "3.8.5"
  }
 },
 "nbformat": 4,
 "nbformat_minor": 4
}
